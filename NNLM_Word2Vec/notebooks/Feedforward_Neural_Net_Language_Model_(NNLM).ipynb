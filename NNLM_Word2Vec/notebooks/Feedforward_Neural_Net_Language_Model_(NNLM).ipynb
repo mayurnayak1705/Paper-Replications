{
  "nbformat": 4,
  "nbformat_minor": 0,
  "metadata": {
    "colab": {
      "provenance": []
    },
    "kernelspec": {
      "name": "python3",
      "display_name": "Python 3"
    },
    "language_info": {
      "name": "python"
    }
  },
  "cells": [
    {
      "cell_type": "code",
      "execution_count": 7,
      "metadata": {
        "id": "5aL7YoNfCZso"
      },
      "outputs": [],
      "source": [
        "from collections import Counter\n",
        "import re"
      ]
    },
    {
      "cell_type": "code",
      "source": [
        "with open(\"/content/sample_data/shakespeare.txt\", \"r\" ,encoding=\"utf8\") as f:\n",
        "  text = f.read()\n",
        "text = text.lower()"
      ],
      "metadata": {
        "id": "Nx5Rthd55FzO"
      },
      "execution_count": 4,
      "outputs": []
    },
    {
      "cell_type": "code",
      "source": [
        "tokens = re.findall(r\"\\w+|[^\\w\\s]\", text)"
      ],
      "metadata": {
        "id": "YWIbYx6H5dcv"
      },
      "execution_count": 14,
      "outputs": []
    },
    {
      "cell_type": "code",
      "source": [
        "vocab = sorted(set(tokens))"
      ],
      "metadata": {
        "id": "MgfdP0m95eI1"
      },
      "execution_count": 20,
      "outputs": []
    },
    {
      "cell_type": "code",
      "source": [
        "word2idx = {w: i for i, w in enumerate(vocab)}\n",
        "idx2word = {i: w for w, i in word2idx.items()}\n",
        "vocab_size = len(vocab)"
      ],
      "metadata": {
        "id": "PrQyDQmg52kz"
      },
      "execution_count": 22,
      "outputs": []
    },
    {
      "cell_type": "code",
      "source": [
        "indices = [word2idx[w] for w in tokens]"
      ],
      "metadata": {
        "id": "udwu3ukv6oLe"
      },
      "execution_count": 27,
      "outputs": []
    },
    {
      "cell_type": "code",
      "source": [
        "import torch\n",
        "from torch.utils.data import Dataset, DataLoader"
      ],
      "metadata": {
        "id": "vwEfBAXG7ViV"
      },
      "execution_count": 28,
      "outputs": []
    },
    {
      "cell_type": "code",
      "source": [
        "class NNLM_Dataset(Dataset):\n",
        "    def __init__(self, data, context_size):\n",
        "        self.data = data\n",
        "        self.context_size = context_size\n",
        "\n",
        "    def __len__(self):\n",
        "        return len(self.data) - self.context_size\n",
        "\n",
        "    def __getitem__(self, idx):\n",
        "        context = self.data[idx:idx + self.context_size]\n",
        "        target = self.data[idx + self.context_size]\n",
        "        return torch.tensor(context), torch.tensor(target)"
      ],
      "metadata": {
        "id": "g9WUusjt8Ift"
      },
      "execution_count": 30,
      "outputs": []
    },
    {
      "cell_type": "code",
      "source": [
        "context_size = 5\n",
        "dataset = NNLM_Dataset(indices, context_size)\n",
        "dataloader = DataLoader(dataset, batch_size=64, shuffle=True)"
      ],
      "metadata": {
        "id": "rjIFK4lt8_ca"
      },
      "execution_count": 32,
      "outputs": []
    },
    {
      "cell_type": "code",
      "source": [
        "import torch.nn as nn"
      ],
      "metadata": {
        "id": "C2QB-zDh9MQM"
      },
      "execution_count": 33,
      "outputs": []
    },
    {
      "cell_type": "code",
      "source": [
        "import torch\n",
        "import torch.nn.functional as F\n",
        "import torch.nn as nn\n",
        "\n",
        "class NNLM(nn.Module):\n",
        "    def __init__(self, vocab_size, context_size, embedding_dim, hidden_dim):\n",
        "        super().__init__()\n",
        "        # projection matrix instead of Embedding layer\n",
        "        self.W_proj = nn.Parameter(torch.randn(vocab_size, embedding_dim))\n",
        "        self.fc1    = nn.Linear(context_size * embedding_dim, hidden_dim)\n",
        "        self.act    = nn.Tanh()\n",
        "        self.fc2    = nn.Linear(hidden_dim, vocab_size)\n",
        "\n",
        "    def forward(self, x):\n",
        "        # print(x.shape)\n",
        "        one_hot = F.one_hot(x, num_classes=self.W_proj.size(0)).float()\n",
        "        # print(one_hot.shape)\n",
        "        emb = one_hot @ self.W_proj\n",
        "        emb = emb.view(emb.size(0), -1)\n",
        "        # print(emb.shape)\n",
        "        h   = self.act(self.fc1(emb))\n",
        "        # print(h.shape)\n",
        "        out = self.fc2(h)\n",
        "        # print(out.shape)\n",
        "        return out\n"
      ],
      "metadata": {
        "id": "N0K2csWcG65e"
      },
      "execution_count": 48,
      "outputs": []
    },
    {
      "cell_type": "code",
      "source": [
        "model = NNLM(vocab_size, context_size, embedding_dim=100, hidden_dim=128)\n",
        "criterion = nn.CrossEntropyLoss()\n",
        "optimizer = torch.optim.Adam(model.parameters(), lr=0.001)\n",
        "\n",
        "for epoch in range(5):\n",
        "    total_loss = 0\n",
        "    for context, target in dataloader:\n",
        "        optimizer.zero_grad()\n",
        "        output = model(context)\n",
        "        loss = criterion(output, target)\n",
        "        loss.backward()\n",
        "        optimizer.step()\n",
        "        total_loss += loss.item()\n",
        "    print(f\"Epoch {epoch + 1}, Loss: {total_loss:.4f}\")\n"
      ],
      "metadata": {
        "colab": {
          "base_uri": "https://localhost:8080/"
        },
        "id": "hQv8l0McKMnd",
        "outputId": "695927a5-c625-4226-ace3-bfe9cdd60b0d"
      },
      "execution_count": 49,
      "outputs": [
        {
          "output_type": "stream",
          "name": "stdout",
          "text": [
            "Epoch 1, Loss: 23158.1381\n",
            "Epoch 2, Loss: 20473.6165\n",
            "Epoch 3, Loss: 19123.2606\n",
            "Epoch 4, Loss: 18010.4937\n",
            "Epoch 5, Loss: 17013.4194\n"
          ]
        }
      ]
    },
    {
      "cell_type": "code",
      "source": [
        "context_words = [\"to\", \"be\", \"or\", \"not\", \"to\"]\n",
        "context_ids = torch.tensor([[word2idx[w] for w in context_words]])\n",
        "with torch.no_grad():\n",
        "    output = model(context_ids)\n",
        "    predicted = torch.argmax(output, dim=1)\n",
        "    print(\"Next word prediction:\", idx2word[predicted.item()])"
      ],
      "metadata": {
        "colab": {
          "base_uri": "https://localhost:8080/"
        },
        "id": "VXARFxQlKeNd",
        "outputId": "9b4f4437-44c0-4789-cdd2-5faee9873426"
      },
      "execution_count": 50,
      "outputs": [
        {
          "output_type": "stream",
          "name": "stdout",
          "text": [
            "Next word prediction: be\n"
          ]
        }
      ]
    },
    {
      "cell_type": "code",
      "source": [
        "context_words = [\"are\", \"all\", \"resolved\", \"rather\", \"to\"]\n",
        "context_ids = torch.tensor([[word2idx[w] for w in context_words]])\n",
        "with torch.no_grad():\n",
        "    output = model(context_ids)\n",
        "    predicted = torch.argmax(output, dim=1)\n",
        "    print(\"Next word prediction:\", idx2word[predicted.item()])"
      ],
      "metadata": {
        "colab": {
          "base_uri": "https://localhost:8080/"
        },
        "id": "zWVTLx0GUfvJ",
        "outputId": "dbb92f89-e11e-4ee9-d341-ef79fc383430"
      },
      "execution_count": 54,
      "outputs": [
        {
          "output_type": "stream",
          "name": "stdout",
          "text": [
            "Next word prediction: see\n"
          ]
        }
      ]
    },
    {
      "cell_type": "code",
      "source": [],
      "metadata": {
        "id": "YvGAlaG8U4ak"
      },
      "execution_count": 53,
      "outputs": []
    }
  ]
}